{
 "cells": [
  {
   "cell_type": "code",
   "execution_count": 18,
   "metadata": {},
   "outputs": [
    {
     "name": "stdout",
     "output_type": "stream",
     "text": [
      "+7 (948) 106 12 34\n",
      "+79481061234\n",
      "+7 948 106 12 34\n",
      "+7 (948) 106-12-34\n",
      "+7 (948) 1061234\n",
      "+380713061234\n",
      "+446661061234\n",
      "+4466610612\n",
      "+44-666-106-12-34\n",
      "+44 (6661) 061 234\n",
      "+44 6661 061234\n"
     ]
    }
   ],
   "source": [
    "import re\n",
    "\n",
    "s = \"\\tPhone: +7 (948) 106 12 34.\\n\\\n",
    "    Phone: +79481061234. \\n\\\n",
    "    Phone: +7 948 106 12 34.\\n\\\n",
    "    Phone: +7 (948) 106-12-34.\\n\\\n",
    "    Phone: +7 (948) 1061234.\\n\\\n",
    "    Phone: 8 (948) 106 12 34.\\n\\\n",
    "    Phone: 89481061234.\\n\\\n",
    "    Phone: 8(948)1061234.\\n\\\n",
    "    Phone: +380713061234.\\n\\\n",
    "    Phone:+446661061234\\n\\\n",
    "    Not a Phone: +4466610612\\n\\\n",
    "    Not a Phone: +44-666-106-12-34\\n\\\n",
    "    Not a Phone: 4402 6661 0612 3400\\n\\\n",
    "    Not a Phone: 666-10-12\\n\\\n",
    "    Not a Phone: +44 (6661) 061 234\\n\\\n",
    "    Not a Phone: +44 6661 061234\\n\"\n",
    "\n",
    "# Регулярное выражение для извлечения телефонных номеров\n",
    "p = re.compile(r'\\bPhone:\\s*(?P<Phone>\\+\\d{1,4}[-. ]?\\(?\\d{1,5}\\)?[-. ]?\\d{1,5}[-. ]?\\d{1,6}[-. ]?\\d{1,6})\\b')\n",
    "\n",
    "# Создаем список для хранения найденных номеров\n",
    "phones = []\n",
    "\n",
    "# Добавляем номера в список\n",
    "for m in re.finditer(p, s):\n",
    "    phones.append(m.group('Phone'))\n",
    "    print('%s' % (m.group('Phone')))\n",
    "\n",
    "\n"
   ]
  }
 ],
 "metadata": {
  "kernelspec": {
   "display_name": "env",
   "language": "python",
   "name": "python3"
  },
  "language_info": {
   "codemirror_mode": {
    "name": "ipython",
    "version": 3
   },
   "file_extension": ".py",
   "mimetype": "text/x-python",
   "name": "python",
   "nbconvert_exporter": "python",
   "pygments_lexer": "ipython3",
   "version": "3.11.5"
  }
 },
 "nbformat": 4,
 "nbformat_minor": 2
}
